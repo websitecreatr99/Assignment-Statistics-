{
 "cells": [
  {
   "cell_type": "markdown",
   "id": "f7186c9b",
   "metadata": {},
   "source": [
    "# 1) To prove Consistent Estimator"
   ]
  },
  {
   "cell_type": "code",
   "execution_count": 1,
   "id": "538485f6",
   "metadata": {},
   "outputs": [],
   "source": [
    "# Let X belong to Normal Distribution with mean mu and variance sigma square\n",
    "# To show that 1/n * sum(x) is consistent estimator of mu"
   ]
  },
  {
   "cell_type": "code",
   "execution_count": 2,
   "id": "ce2de4a3",
   "metadata": {},
   "outputs": [],
   "source": [
    "import numpy as np\n",
    "import matplotlib.pyplot as plt\n",
    "import seaborn as sns"
   ]
  },
  {
   "cell_type": "code",
   "execution_count": 3,
   "id": "147c1db6",
   "metadata": {},
   "outputs": [],
   "source": [
    "# Creating 1000 sample of size 1000\n",
    "# Each sample is a vector of 1000 random variable\n",
    "# Each random variable is drawn from Normal Distribution with mean mu and variance sigma square"
   ]
  },
  {
   "cell_type": "code",
   "execution_count": 4,
   "id": "a810e1cb",
   "metadata": {},
   "outputs": [],
   "source": [
    "mu = 6.2\n",
    "sigma = 1\n",
    "n = 1000\n",
    "samples = np.random.normal(mu,sigma,(n,n))"
   ]
  },
  {
   "cell_type": "code",
   "execution_count": 5,
   "id": "90b42578",
   "metadata": {},
   "outputs": [],
   "source": [
    "# Calculate the mean of each sample\n",
    "# This is the estimator of mu"
   ]
  },
  {
   "cell_type": "code",
   "execution_count": 6,
   "id": "609f5c53",
   "metadata": {},
   "outputs": [],
   "source": [
    "estimator = np.mean(samples,axis=1)"
   ]
  },
  {
   "cell_type": "code",
   "execution_count": 7,
   "id": "52b609d3",
   "metadata": {},
   "outputs": [],
   "source": [
    "# Calculate the mean of estimator"
   ]
  },
  {
   "cell_type": "code",
   "execution_count": 8,
   "id": "6380f855",
   "metadata": {},
   "outputs": [],
   "source": [
    "mean_estimator = np.mean(estimator)"
   ]
  },
  {
   "cell_type": "code",
   "execution_count": 9,
   "id": "4118012c",
   "metadata": {},
   "outputs": [],
   "source": [
    "# To Calculate the variance of Estimator"
   ]
  },
  {
   "cell_type": "code",
   "execution_count": 10,
   "id": "bdb4fe04",
   "metadata": {},
   "outputs": [],
   "source": [
    "var_estimator = np.var(estimator)"
   ]
  },
  {
   "cell_type": "code",
   "execution_count": 11,
   "id": "26faf8ac",
   "metadata": {},
   "outputs": [],
   "source": [
    "# Printing the mean and variance of estimator"
   ]
  },
  {
   "cell_type": "code",
   "execution_count": 12,
   "id": "7c301fa2",
   "metadata": {},
   "outputs": [
    {
     "name": "stdout",
     "output_type": "stream",
     "text": [
      "Mean of the Estimator : 6.197655730931296\n",
      "Variance of the Estimator : 0.0010421792943472142\n"
     ]
    }
   ],
   "source": [
    "print(\"Mean of the Estimator :\", mean_estimator)\n",
    "print(\"Variance of the Estimator :\", var_estimator)"
   ]
  },
  {
   "cell_type": "code",
   "execution_count": 13,
   "id": "eb44052d",
   "metadata": {},
   "outputs": [
    {
     "name": "stdout",
     "output_type": "stream",
     "text": [
      "Mean of the Original Distribution : 6.2\n",
      "Variance of the Original Distribution : 1\n"
     ]
    }
   ],
   "source": [
    "print(\"Mean of the Original Distribution :\", mu)\n",
    "print(\"Variance of the Original Distribution :\", sigma**2)"
   ]
  },
  {
   "cell_type": "code",
   "execution_count": 14,
   "id": "a110add1",
   "metadata": {},
   "outputs": [],
   "source": [
    "# Plot the histogram of the estimator"
   ]
  },
  {
   "cell_type": "code",
   "execution_count": 15,
   "id": "e98d95f4",
   "metadata": {},
   "outputs": [
    {
     "data": {
      "image/png": "[encoded data removed]",
      "text/plain": [
       "<Figure size 360x360 with 1 Axes>"
      ]
     },
     "metadata": {
      "needs_background": "light"
     },
     "output_type": "display_data"
    }
   ],
   "source": [
    "sns.displot(data=estimator,kde= True, bins=18)\n",
    "plt.title(\"Histogram of the Estimator\")\n",
    "plt.xlabel(\"Value\")\n",
    "plt.ylabel(\"Frequency\")\n",
    "plt.show()"
   ]
  },
  {
   "cell_type": "code",
   "execution_count": null,
   "id": "450a2e99",
   "metadata": {},
   "outputs": [],
   "source": []
  }
 ],
 "metadata": {
  "kernelspec": {
   "display_name": "Python 3 (ipykernel)",
   "language": "python",
   "name": "python3"
  },
  "language_info": {
   "codemirror_mode": {
    "name": "ipython",
    "version": 3
   },
   "file_extension": ".py",
   "mimetype": "text/x-python",
   "name": "python",
   "nbconvert_exporter": "python",
   "pygments_lexer": "ipython3",
   "version": "3.9.12"
  }
 },
 "nbformat": 4,
 "nbformat_minor": 5
}
